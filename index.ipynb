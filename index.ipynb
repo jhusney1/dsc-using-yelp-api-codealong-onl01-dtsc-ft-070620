{
 "cells": [
  {
   "cell_type": "markdown",
   "metadata": {},
   "source": [
    "# Using the Yelp API - Codealong\n",
    "\n",
    "## Introduction\n",
    "\n",
    "Now that we've discussed HTTP requests and OAuth, it's time to practice applying those skills to a production level API. In this codealong, we'll take you through the process of signing up for an OAuth token and then using that to make requests to the Yelp API!\n",
    "\n",
    "## Objectives\n",
    "\n",
    "You will be able to:\n",
    "\n",
    "* Make requests using OAuth\n",
    "* Use the JSON module to load and parse JSON documents\n",
    "* Convert JSON to a pandas dataframe"
   ]
  },
  {
   "cell_type": "markdown",
   "metadata": {},
   "source": [
    "## Generating Access Tokens\n",
    "\n",
    "As discussed, in order to use many APIs, one needs to use OAuth which requires an access token. As such, our first step will be to generate this login information so that we can start making some requests.  \n",
    "\n",
    "With that, let's go grab an access token from an API site and make some API calls!\n",
    "Point your browser over to this [yelp page](https://www.yelp.com/developers/v3/manage_app) and start creating an app in order to obtain and API access token:\n",
    "\n",
    "![](./images/yelp_app.png)\n",
    "\n",
    "\n",
    "You can either sign in to an existing Yelp account or create a new one if needed.\n",
    "\n",
    "On the page you see above, simply fill out some sample information such as \"Flatiron Edu API Example\" for the app name, or whatever floats your boat. Afterward, you should be presented with an API key that you can use to make requests!\n",
    "\n",
    "With that, let's set up our authentication tokens so that we can start making some API calls!"
   ]
  },
  {
   "cell_type": "markdown",
   "metadata": {},
   "source": [
    "### Should I publicly share my passwords on Github?\n",
    "\n",
    "When using an API that requires an API key and password you should **NEVER** hardcode theses values into your main file. When you upload your project onto github it is completely public and vulnerable to attack. Assume that if you put sensitive information publicly on the internet it will be found and abused. \n",
    "\n",
    "To this end, how can we easily access our API key without opening ourselves up to vulnerabilities?\n",
    "\n",
    "There are many ways to store sensitive information but we will go with this method. "
   ]
  },
  {
   "cell_type": "markdown",
   "metadata": {},
   "source": [
    "#### Move to your home (root) directory:\n",
    "\n",
    "```\n",
    "cd ~\n",
    "```\n",
    "\n",
    "#### Now make the `.secret/` directory:\n",
    "\n",
    "```\n",
    "mkdir .secret\n",
    "```\n",
    "\n",
    "This will create a new folder in your home directory where you can store files for any of the API information you have. \n",
    "\n",
    "Can you find the file you just made in your terminal? \n",
    "NOTE: dot files won't show up with just `ls` you must use the show all command as well `ls -a`\n",
    "\n",
    "\n",
    "#### Move into the newly created `.secret/` folder and create a file using vscode or any text editor to store your yelp API login info.\n",
    "\n",
    "```\n",
    "cd .secret/\n",
    "code yelp_api.json\n",
    "```\n",
    "\n",
    "In this file, let's create a dictionary of values representing the client id and API key that looks something like this:\n",
    "\n",
    "`{\"api_key\": \"input api key here!\"}`\n",
    "\n",
    "NOTE: Double quotes are important! You'll copy and paste the `api_key` value that yelp grants you after you create your app.\n",
    "\n",
    "Ok, so now we have a file in our .secret folder on our home directory. Safe and sound (mostly) from anyone trying to steal our info off github.\n",
    "\n",
    "#### Finally, let's get our client id and API key into our jupyter notebook.\n",
    "\n",
    "If we remember that our file is just a regular JSON file, open the file and pull out the appropriate information from the `~/.secret/yelp_api.json` file. \n"
   ]
  },
  {
   "cell_type": "code",
   "execution_count": 1,
   "metadata": {},
   "outputs": [],
   "source": [
    "import json\n",
    "\n",
    "def get_keys(path):\n",
    "    with open(path) as f:\n",
    "        return json.load(f)"
   ]
  },
  {
   "cell_type": "markdown",
   "metadata": {},
   "source": [
    "> **Note**: Change the file path below to be your root directory. \n",
    "If you're not sure what your username is, check it with `pwd`  \n",
    "For example, my current working directory is ```/Users/matthew.mitchell/Documents/dsc-using-yelp-api-codealong```  \n",
    "So the line below would become:\n",
    "```keys = get_keys(\"/Users/matthew.mitchell/.secret/yelp_api.json\")```"
   ]
  },
  {
   "cell_type": "code",
   "execution_count": 3,
   "metadata": {},
   "outputs": [],
   "source": [
    "keys = get_keys(\"/Users/joey/.secret/yelp_api.json\")\n",
    "\n",
    "api_key = keys['api_key']\n",
    "\n",
    "#While you may wish to print out these API keys to check that they imported properly,\n",
    "#be sure to clear the output before uploading to Github. \n",
    "#Again, you don't want your keys stolen!!!"
   ]
  },
  {
   "cell_type": "markdown",
   "metadata": {},
   "source": [
    "## An Example Request with OAuth <a id=\"oauth_request\"></a>\n",
    "https://www.yelp.com/developers/documentation/v3/get_started\n",
    "\n",
    "In the next lesson, we'll further dissect how to read and translate online documentation like the link here. For now, let's simply look at an example request and dissect it into its constituent parts:"
   ]
  },
  {
   "cell_type": "code",
   "execution_count": 11,
   "metadata": {},
   "outputs": [
    {
     "name": "stdout",
     "output_type": "stream",
     "text": [
      "<Response [200]>\n",
      "<class 'str'>\n",
      "{\"businesses\": [{\"id\": \"K2QvVZ1mXc1xZdA0NLlf9Q\", \"alias\": \"mama-kitchen-brooklyn\", \"name\": \"Mama Kitchen\", \"image_url\": \"https://s3-media4.fl.yelpcdn.com/bphoto/M30P6BIZIPcNwVCSz-aJDA/o.jpg\", \"is_closed\": false, \"url\": \"https://www.yelp.com/biz/mama-kitchen-brooklyn?adjust_creative=jaEcwHv-qRlg5JJTpcsrDA&utm_campaign=yelp_api_v3&utm_medium=api_v3_business_search&utm_source=jaEcwHv-qRlg5JJTpcsrDA\", \"review_count\": 38, \"categories\": [{\"alias\": \"kosher\", \"title\": \"Kosher\"}, {\"alias\": \"mideastern\", \"title\": \"Middle Eastern\"}], \"rating\": 4.5, \"coordinates\": {\"latitude\": 40.6788993574647, \"longitude\": -73.9272566922721}, \"transactions\": [\"pickup\", \"delivery\"], \"location\": {\"address1\": \"7 Rochester Ave\", \"address2\": \"\", \"address3\": null, \"city\": \"Brooklyn\", \"zip_code\": \"11233\", \"country\": \"US\", \"state\": \"NY\", \"display_address\": [\"7 Rochester Ave\", \"Brooklyn, NY 11233\"]}, \"phone\": \"+17187713038\", \"display_phone\": \"(718) 771-3038\", \"distance\": 3125.799321047101}, {\"id\": \"37RhWHnMsnjULuoN95Bg9A\"\n"
     ]
    }
   ],
   "source": [
    "import requests\n",
    "term = 'Kosher'\n",
    "location = 'Brooklyn NY'\n",
    "SEARCH_LIMIT = 10\n",
    "\n",
    "url = 'https://api.yelp.com/v3/businesses/search'\n",
    "\n",
    "headers = {\n",
    "        'Authorization': 'Bearer {}'.format(api_key),\n",
    "    }\n",
    "\n",
    "url_params = {\n",
    "                'term': term.replace(' ', '+'),\n",
    "                'location': location.replace(' ', '+'),\n",
    "                'limit': SEARCH_LIMIT\n",
    "            }\n",
    "response = requests.get(url, headers=headers, params=url_params)\n",
    "print(response)\n",
    "print(type(response.text))\n",
    "print(response.text[:1000])"
   ]
  },
  {
   "cell_type": "markdown",
   "metadata": {},
   "source": [
    "## Breaking Down the Request\n",
    "\n",
    "As you can see, there are three main parts to our request.  \n",
    "  \n",
    "They are:\n",
    "* The URL\n",
    "* The header\n",
    "* The parameters\n",
    "  \n",
    "The URL is fairly straightforward and is simply the base URL as described in the documentation (again more details in the upcoming lesson).\n",
    "\n",
    "The header is a dictionary of key-value pairs. In this case, we are using a fairly standard header used by many APIs. It has a strict form where 'Authorization' is the key and 'Bearer YourApiKey' is the value.\n",
    "\n",
    "The parameters are the filters that we wish to pass into the query. These will be embedded into the URL when the request is made to the API. Similar to the header, they form key-value pairs. Valid key parameters by which to structure your queries are described in the API documentation which we'll look at further shortly. A final important note, however, is the need to replace spaces with \"+\". This is standard to many requests as URLs cannot contain spaces. (Note that the header itself isn't directly embedded into the URL itself and as such, the space between 'Bearer' and YourApiKey is valid.)\n"
   ]
  },
  {
   "cell_type": "markdown",
   "metadata": {},
   "source": [
    "## The Response\n",
    "\n",
    "As before, our response object has both a status code, as well as the data itself. With that, let's start with a little data exploration!"
   ]
  },
  {
   "cell_type": "code",
   "execution_count": 12,
   "metadata": {},
   "outputs": [
    {
     "data": {
      "text/plain": [
       "dict_keys(['businesses', 'total', 'region'])"
      ]
     },
     "execution_count": 12,
     "metadata": {},
     "output_type": "execute_result"
    }
   ],
   "source": [
    "response.json().keys()"
   ]
  },
  {
   "cell_type": "markdown",
   "metadata": {},
   "source": [
    "Now let's go a bit further and start to preview what's stored in each of the values for these keys."
   ]
  },
  {
   "cell_type": "code",
   "execution_count": 13,
   "metadata": {},
   "outputs": [
    {
     "name": "stdout",
     "output_type": "stream",
     "text": [
      "businesses\n",
      "<class 'list'>\n",
      "\n",
      "\n",
      "\n",
      "total\n",
      "<class 'int'>\n",
      "\n",
      "\n",
      "\n",
      "region\n",
      "<class 'dict'>\n",
      "\n",
      "\n",
      "\n"
     ]
    }
   ],
   "source": [
    "for key in response.json().keys():\n",
    "    print(key)\n",
    "    value = response.json()[key] #Use standard dictionary formatting\n",
    "    print(type(value)) #What type is it?\n",
    "    print('\\n\\n') #Separate out data"
   ]
  },
  {
   "cell_type": "markdown",
   "metadata": {},
   "source": [
    "Let's continue to preview these further to get a little better acquainted."
   ]
  },
  {
   "cell_type": "code",
   "execution_count": 14,
   "metadata": {},
   "outputs": [
    {
     "data": {
      "text/plain": [
       "[{'id': 'K2QvVZ1mXc1xZdA0NLlf9Q',\n",
       "  'alias': 'mama-kitchen-brooklyn',\n",
       "  'name': 'Mama Kitchen',\n",
       "  'image_url': 'https://s3-media4.fl.yelpcdn.com/bphoto/M30P6BIZIPcNwVCSz-aJDA/o.jpg',\n",
       "  'is_closed': False,\n",
       "  'url': 'https://www.yelp.com/biz/mama-kitchen-brooklyn?adjust_creative=jaEcwHv-qRlg5JJTpcsrDA&utm_campaign=yelp_api_v3&utm_medium=api_v3_business_search&utm_source=jaEcwHv-qRlg5JJTpcsrDA',\n",
       "  'review_count': 38,\n",
       "  'categories': [{'alias': 'kosher', 'title': 'Kosher'},\n",
       "   {'alias': 'mideastern', 'title': 'Middle Eastern'}],\n",
       "  'rating': 4.5,\n",
       "  'coordinates': {'latitude': 40.6788993574647,\n",
       "   'longitude': -73.9272566922721},\n",
       "  'transactions': ['pickup', 'delivery'],\n",
       "  'location': {'address1': '7 Rochester Ave',\n",
       "   'address2': '',\n",
       "   'address3': None,\n",
       "   'city': 'Brooklyn',\n",
       "   'zip_code': '11233',\n",
       "   'country': 'US',\n",
       "   'state': 'NY',\n",
       "   'display_address': ['7 Rochester Ave', 'Brooklyn, NY 11233']},\n",
       "  'phone': '+17187713038',\n",
       "  'display_phone': '(718) 771-3038',\n",
       "  'distance': 3125.799321047101},\n",
       " {'id': '37RhWHnMsnjULuoN95Bg9A',\n",
       "  'alias': 'izzys-brooklyn-smokehouse-crown-heights',\n",
       "  'name': \"Izzy's Brooklyn Smokehouse\",\n",
       "  'image_url': 'https://s3-media3.fl.yelpcdn.com/bphoto/e5YYl_HrSg7w66M58c1PIA/o.jpg',\n",
       "  'is_closed': False,\n",
       "  'url': 'https://www.yelp.com/biz/izzys-brooklyn-smokehouse-crown-heights?adjust_creative=jaEcwHv-qRlg5JJTpcsrDA&utm_campaign=yelp_api_v3&utm_medium=api_v3_business_search&utm_source=jaEcwHv-qRlg5JJTpcsrDA',\n",
       "  'review_count': 144,\n",
       "  'categories': [{'alias': 'bbq', 'title': 'Barbeque'},\n",
       "   {'alias': 'kosher', 'title': 'Kosher'},\n",
       "   {'alias': 'smokehouse', 'title': 'Smokehouse'}],\n",
       "  'rating': 4.0,\n",
       "  'coordinates': {'latitude': 40.66487, 'longitude': -73.9369},\n",
       "  'transactions': ['pickup', 'delivery'],\n",
       "  'price': '$$$',\n",
       "  'location': {'address1': '397 Troy Ave',\n",
       "   'address2': '',\n",
       "   'address3': '',\n",
       "   'city': 'Crown Heights',\n",
       "   'zip_code': '11213',\n",
       "   'country': 'US',\n",
       "   'state': 'NY',\n",
       "   'display_address': ['397 Troy Ave', 'Crown Heights, NY 11213']},\n",
       "  'phone': '+13474250524',\n",
       "  'display_phone': '(347) 425-0524',\n",
       "  'distance': 1409.8655777510469}]"
      ]
     },
     "execution_count": 14,
     "metadata": {},
     "output_type": "execute_result"
    }
   ],
   "source": [
    "response.json()['businesses'][:2]"
   ]
  },
  {
   "cell_type": "code",
   "execution_count": 15,
   "metadata": {},
   "outputs": [
    {
     "data": {
      "text/plain": [
       "2500"
      ]
     },
     "execution_count": 15,
     "metadata": {},
     "output_type": "execute_result"
    }
   ],
   "source": [
    "response.json()['total']"
   ]
  },
  {
   "cell_type": "code",
   "execution_count": 16,
   "metadata": {},
   "outputs": [
    {
     "data": {
      "text/plain": [
       "{'center': {'longitude': -73.93936157226562, 'latitude': 40.652330148320374}}"
      ]
     },
     "execution_count": 16,
     "metadata": {},
     "output_type": "execute_result"
    }
   ],
   "source": [
    "response.json()['region']"
   ]
  },
  {
   "cell_type": "markdown",
   "metadata": {},
   "source": [
    "As you can see, we're primarily interested in the 'businesses' entry. \n",
    "\n",
    "Let's go ahead and create a dataframe from that."
   ]
  },
  {
   "cell_type": "code",
   "execution_count": 18,
   "metadata": {
    "scrolled": true
   },
   "outputs": [
    {
     "name": "stdout",
     "output_type": "stream",
     "text": [
      "10\n",
      "Index(['id', 'alias', 'name', 'image_url', 'is_closed', 'url', 'review_count',\n",
      "       'categories', 'rating', 'coordinates', 'transactions', 'location',\n",
      "       'phone', 'display_phone', 'distance', 'price'],\n",
      "      dtype='object')\n"
     ]
    },
    {
     "data": {
      "text/html": [
       "<div>\n",
       "<style scoped>\n",
       "    .dataframe tbody tr th:only-of-type {\n",
       "        vertical-align: middle;\n",
       "    }\n",
       "\n",
       "    .dataframe tbody tr th {\n",
       "        vertical-align: top;\n",
       "    }\n",
       "\n",
       "    .dataframe thead th {\n",
       "        text-align: right;\n",
       "    }\n",
       "</style>\n",
       "<table border=\"1\" class=\"dataframe\">\n",
       "  <thead>\n",
       "    <tr style=\"text-align: right;\">\n",
       "      <th></th>\n",
       "      <th>id</th>\n",
       "      <th>alias</th>\n",
       "      <th>name</th>\n",
       "      <th>image_url</th>\n",
       "      <th>is_closed</th>\n",
       "      <th>url</th>\n",
       "      <th>review_count</th>\n",
       "      <th>categories</th>\n",
       "      <th>rating</th>\n",
       "      <th>coordinates</th>\n",
       "      <th>transactions</th>\n",
       "      <th>location</th>\n",
       "      <th>phone</th>\n",
       "      <th>display_phone</th>\n",
       "      <th>distance</th>\n",
       "      <th>price</th>\n",
       "    </tr>\n",
       "  </thead>\n",
       "  <tbody>\n",
       "    <tr>\n",
       "      <td>0</td>\n",
       "      <td>K2QvVZ1mXc1xZdA0NLlf9Q</td>\n",
       "      <td>mama-kitchen-brooklyn</td>\n",
       "      <td>Mama Kitchen</td>\n",
       "      <td>https://s3-media4.fl.yelpcdn.com/bphoto/M30P6B...</td>\n",
       "      <td>False</td>\n",
       "      <td>https://www.yelp.com/biz/mama-kitchen-brooklyn...</td>\n",
       "      <td>38</td>\n",
       "      <td>[{'alias': 'kosher', 'title': 'Kosher'}, {'ali...</td>\n",
       "      <td>4.5</td>\n",
       "      <td>{'latitude': 40.6788993574647, 'longitude': -7...</td>\n",
       "      <td>[pickup, delivery]</td>\n",
       "      <td>{'address1': '7 Rochester Ave', 'address2': ''...</td>\n",
       "      <td>+17187713038</td>\n",
       "      <td>(718) 771-3038</td>\n",
       "      <td>3125.799321</td>\n",
       "      <td>NaN</td>\n",
       "    </tr>\n",
       "    <tr>\n",
       "      <td>1</td>\n",
       "      <td>37RhWHnMsnjULuoN95Bg9A</td>\n",
       "      <td>izzys-brooklyn-smokehouse-crown-heights</td>\n",
       "      <td>Izzy's Brooklyn Smokehouse</td>\n",
       "      <td>https://s3-media3.fl.yelpcdn.com/bphoto/e5YYl_...</td>\n",
       "      <td>False</td>\n",
       "      <td>https://www.yelp.com/biz/izzys-brooklyn-smokeh...</td>\n",
       "      <td>144</td>\n",
       "      <td>[{'alias': 'bbq', 'title': 'Barbeque'}, {'alia...</td>\n",
       "      <td>4.0</td>\n",
       "      <td>{'latitude': 40.66487, 'longitude': -73.9369}</td>\n",
       "      <td>[pickup, delivery]</td>\n",
       "      <td>{'address1': '397 Troy Ave', 'address2': '', '...</td>\n",
       "      <td>+13474250524</td>\n",
       "      <td>(347) 425-0524</td>\n",
       "      <td>1409.865578</td>\n",
       "      <td>$$$</td>\n",
       "    </tr>\n",
       "    <tr>\n",
       "      <td>2</td>\n",
       "      <td>Xy5zmV2va1RTgnqyakfMnQ</td>\n",
       "      <td>gruit-brooklyn</td>\n",
       "      <td>Gruit</td>\n",
       "      <td>https://s3-media3.fl.yelpcdn.com/bphoto/WlHS8h...</td>\n",
       "      <td>False</td>\n",
       "      <td>https://www.yelp.com/biz/gruit-brooklyn?adjust...</td>\n",
       "      <td>12</td>\n",
       "      <td>[{'alias': 'bars', 'title': 'Bars'}, {'alias':...</td>\n",
       "      <td>4.0</td>\n",
       "      <td>{'latitude': 40.663465879123, 'longitude': -73...</td>\n",
       "      <td>[pickup, delivery]</td>\n",
       "      <td>{'address1': '252 Empire Blvd', 'address2': ''...</td>\n",
       "      <td>+13478460622</td>\n",
       "      <td>(347) 846-0622</td>\n",
       "      <td>1727.787787</td>\n",
       "      <td>NaN</td>\n",
       "    </tr>\n",
       "    <tr>\n",
       "      <td>3</td>\n",
       "      <td>lNV-bBLb9iTFCmbeGakwGw</td>\n",
       "      <td>gottliebs-restaurant-brooklyn-14</td>\n",
       "      <td>Gottlieb's Restaurant</td>\n",
       "      <td>https://s3-media2.fl.yelpcdn.com/bphoto/csYVkF...</td>\n",
       "      <td>False</td>\n",
       "      <td>https://www.yelp.com/biz/gottliebs-restaurant-...</td>\n",
       "      <td>67</td>\n",
       "      <td>[{'alias': 'kosher', 'title': 'Kosher'}, {'ali...</td>\n",
       "      <td>3.5</td>\n",
       "      <td>{'latitude': 40.7077128, 'longitude': -73.9611...</td>\n",
       "      <td>[pickup, delivery]</td>\n",
       "      <td>{'address1': '352 Roebling St', 'address2': ''...</td>\n",
       "      <td>+17183846612</td>\n",
       "      <td>(718) 384-6612</td>\n",
       "      <td>6426.086577</td>\n",
       "      <td>$$</td>\n",
       "    </tr>\n",
       "    <tr>\n",
       "      <td>4</td>\n",
       "      <td>dN17XjupSnAdIapJyXK_qg</td>\n",
       "      <td>brooklyn-artisan-bakehouse-and-cafe-brooklyn</td>\n",
       "      <td>Brooklyn Artisan Bakehouse &amp; Cafe</td>\n",
       "      <td>https://s3-media1.fl.yelpcdn.com/bphoto/SiHnWu...</td>\n",
       "      <td>False</td>\n",
       "      <td>https://www.yelp.com/biz/brooklyn-artisan-bake...</td>\n",
       "      <td>52</td>\n",
       "      <td>[{'alias': 'cafes', 'title': 'Cafes'}, {'alias...</td>\n",
       "      <td>4.0</td>\n",
       "      <td>{'latitude': 40.6621475219727, 'longitude': -7...</td>\n",
       "      <td>[pickup, delivery]</td>\n",
       "      <td>{'address1': '529 E New York Ave', 'address2':...</td>\n",
       "      <td>+13472921382</td>\n",
       "      <td>(347) 292-1382</td>\n",
       "      <td>1188.967434</td>\n",
       "      <td>$$</td>\n",
       "    </tr>\n",
       "    <tr>\n",
       "      <td>5</td>\n",
       "      <td>pSAAr8srYYt4SUQP4r0Bhw</td>\n",
       "      <td>luannes-wild-ginger-brooklyn</td>\n",
       "      <td>Luanne's Wild Ginger</td>\n",
       "      <td>https://s3-media2.fl.yelpcdn.com/bphoto/_-6RMa...</td>\n",
       "      <td>False</td>\n",
       "      <td>https://www.yelp.com/biz/luannes-wild-ginger-b...</td>\n",
       "      <td>73</td>\n",
       "      <td>[{'alias': 'vegan', 'title': 'Vegan'}, {'alias...</td>\n",
       "      <td>4.5</td>\n",
       "      <td>{'latitude': 40.6896, 'longitude': -73.96982}</td>\n",
       "      <td>[pickup, delivery]</td>\n",
       "      <td>{'address1': '235 Dekalb Ave', 'address2': Non...</td>\n",
       "      <td>+17186388868</td>\n",
       "      <td>(718) 638-8868</td>\n",
       "      <td>4879.438731</td>\n",
       "      <td>$$</td>\n",
       "    </tr>\n",
       "    <tr>\n",
       "      <td>6</td>\n",
       "      <td>u2uujeuNdUA0WuF46xrsGg</td>\n",
       "      <td>meat-cafe-brooklyn-5</td>\n",
       "      <td>Meat Cafe</td>\n",
       "      <td>https://s3-media2.fl.yelpcdn.com/bphoto/qmiiRj...</td>\n",
       "      <td>False</td>\n",
       "      <td>https://www.yelp.com/biz/meat-cafe-brooklyn-5?...</td>\n",
       "      <td>11</td>\n",
       "      <td>[{'alias': 'kosher', 'title': 'Kosher'}]</td>\n",
       "      <td>4.0</td>\n",
       "      <td>{'latitude': 40.67577, 'longitude': -73.94146}</td>\n",
       "      <td>[]</td>\n",
       "      <td>{'address1': '123 Kingston Ave', 'address2': N...</td>\n",
       "      <td>+15168881730</td>\n",
       "      <td>(516) 888-1730</td>\n",
       "      <td>2609.078224</td>\n",
       "      <td>NaN</td>\n",
       "    </tr>\n",
       "    <tr>\n",
       "      <td>7</td>\n",
       "      <td>-kywtQtjS4s6x2LVYxmreQ</td>\n",
       "      <td>grill-point-brooklyn-brooklyn-3</td>\n",
       "      <td>Grill Point - Brooklyn</td>\n",
       "      <td>https://s3-media3.fl.yelpcdn.com/bphoto/HhPSmk...</td>\n",
       "      <td>False</td>\n",
       "      <td>https://www.yelp.com/biz/grill-point-brooklyn-...</td>\n",
       "      <td>8</td>\n",
       "      <td>[{'alias': 'mideastern', 'title': 'Middle East...</td>\n",
       "      <td>4.5</td>\n",
       "      <td>{'latitude': 40.60807, 'longitude': -73.96114}</td>\n",
       "      <td>[pickup, delivery]</td>\n",
       "      <td>{'address1': '1123 Quentin Rd', 'address2': No...</td>\n",
       "      <td>+17187669009</td>\n",
       "      <td>(718) 766-9009</td>\n",
       "      <td>5244.943538</td>\n",
       "      <td>NaN</td>\n",
       "    </tr>\n",
       "    <tr>\n",
       "      <td>8</td>\n",
       "      <td>Kg1OqaEPNFFL5FuqnALdWQ</td>\n",
       "      <td>davids-brisket-house-and-deli-brooklyn</td>\n",
       "      <td>David's Brisket House and Deli</td>\n",
       "      <td>https://s3-media2.fl.yelpcdn.com/bphoto/1zevDw...</td>\n",
       "      <td>False</td>\n",
       "      <td>https://www.yelp.com/biz/davids-brisket-house-...</td>\n",
       "      <td>437</td>\n",
       "      <td>[{'alias': 'delis', 'title': 'Delis'}, {'alias...</td>\n",
       "      <td>4.5</td>\n",
       "      <td>{'latitude': 40.679434, 'longitude': -73.949515}</td>\n",
       "      <td>[pickup, delivery]</td>\n",
       "      <td>{'address1': '533 Nostrand Ave', 'address2': '...</td>\n",
       "      <td>+17187891155</td>\n",
       "      <td>(718) 789-1155</td>\n",
       "      <td>3133.116516</td>\n",
       "      <td>$$</td>\n",
       "    </tr>\n",
       "    <tr>\n",
       "      <td>9</td>\n",
       "      <td>x3WjQRDbbyqaWZ4ABgUX5Q</td>\n",
       "      <td>essen-ny-deli-brooklyn</td>\n",
       "      <td>Essen NY Deli</td>\n",
       "      <td>https://s3-media4.fl.yelpcdn.com/bphoto/Y4RvBY...</td>\n",
       "      <td>False</td>\n",
       "      <td>https://www.yelp.com/biz/essen-ny-deli-brookly...</td>\n",
       "      <td>74</td>\n",
       "      <td>[{'alias': 'delis', 'title': 'Delis'}, {'alias...</td>\n",
       "      <td>4.0</td>\n",
       "      <td>{'latitude': 40.6244, 'longitude': -73.96474}</td>\n",
       "      <td>[]</td>\n",
       "      <td>{'address1': '1359 Coney Island Ave', 'address...</td>\n",
       "      <td>+17188591002</td>\n",
       "      <td>(718) 859-1002</td>\n",
       "      <td>3772.949906</td>\n",
       "      <td>$$</td>\n",
       "    </tr>\n",
       "  </tbody>\n",
       "</table>\n",
       "</div>"
      ],
      "text/plain": [
       "                       id                                         alias  \\\n",
       "0  K2QvVZ1mXc1xZdA0NLlf9Q                         mama-kitchen-brooklyn   \n",
       "1  37RhWHnMsnjULuoN95Bg9A       izzys-brooklyn-smokehouse-crown-heights   \n",
       "2  Xy5zmV2va1RTgnqyakfMnQ                                gruit-brooklyn   \n",
       "3  lNV-bBLb9iTFCmbeGakwGw              gottliebs-restaurant-brooklyn-14   \n",
       "4  dN17XjupSnAdIapJyXK_qg  brooklyn-artisan-bakehouse-and-cafe-brooklyn   \n",
       "5  pSAAr8srYYt4SUQP4r0Bhw                  luannes-wild-ginger-brooklyn   \n",
       "6  u2uujeuNdUA0WuF46xrsGg                          meat-cafe-brooklyn-5   \n",
       "7  -kywtQtjS4s6x2LVYxmreQ               grill-point-brooklyn-brooklyn-3   \n",
       "8  Kg1OqaEPNFFL5FuqnALdWQ        davids-brisket-house-and-deli-brooklyn   \n",
       "9  x3WjQRDbbyqaWZ4ABgUX5Q                        essen-ny-deli-brooklyn   \n",
       "\n",
       "                                name  \\\n",
       "0                       Mama Kitchen   \n",
       "1         Izzy's Brooklyn Smokehouse   \n",
       "2                              Gruit   \n",
       "3              Gottlieb's Restaurant   \n",
       "4  Brooklyn Artisan Bakehouse & Cafe   \n",
       "5               Luanne's Wild Ginger   \n",
       "6                          Meat Cafe   \n",
       "7             Grill Point - Brooklyn   \n",
       "8     David's Brisket House and Deli   \n",
       "9                      Essen NY Deli   \n",
       "\n",
       "                                           image_url  is_closed  \\\n",
       "0  https://s3-media4.fl.yelpcdn.com/bphoto/M30P6B...      False   \n",
       "1  https://s3-media3.fl.yelpcdn.com/bphoto/e5YYl_...      False   \n",
       "2  https://s3-media3.fl.yelpcdn.com/bphoto/WlHS8h...      False   \n",
       "3  https://s3-media2.fl.yelpcdn.com/bphoto/csYVkF...      False   \n",
       "4  https://s3-media1.fl.yelpcdn.com/bphoto/SiHnWu...      False   \n",
       "5  https://s3-media2.fl.yelpcdn.com/bphoto/_-6RMa...      False   \n",
       "6  https://s3-media2.fl.yelpcdn.com/bphoto/qmiiRj...      False   \n",
       "7  https://s3-media3.fl.yelpcdn.com/bphoto/HhPSmk...      False   \n",
       "8  https://s3-media2.fl.yelpcdn.com/bphoto/1zevDw...      False   \n",
       "9  https://s3-media4.fl.yelpcdn.com/bphoto/Y4RvBY...      False   \n",
       "\n",
       "                                                 url  review_count  \\\n",
       "0  https://www.yelp.com/biz/mama-kitchen-brooklyn...            38   \n",
       "1  https://www.yelp.com/biz/izzys-brooklyn-smokeh...           144   \n",
       "2  https://www.yelp.com/biz/gruit-brooklyn?adjust...            12   \n",
       "3  https://www.yelp.com/biz/gottliebs-restaurant-...            67   \n",
       "4  https://www.yelp.com/biz/brooklyn-artisan-bake...            52   \n",
       "5  https://www.yelp.com/biz/luannes-wild-ginger-b...            73   \n",
       "6  https://www.yelp.com/biz/meat-cafe-brooklyn-5?...            11   \n",
       "7  https://www.yelp.com/biz/grill-point-brooklyn-...             8   \n",
       "8  https://www.yelp.com/biz/davids-brisket-house-...           437   \n",
       "9  https://www.yelp.com/biz/essen-ny-deli-brookly...            74   \n",
       "\n",
       "                                          categories  rating  \\\n",
       "0  [{'alias': 'kosher', 'title': 'Kosher'}, {'ali...     4.5   \n",
       "1  [{'alias': 'bbq', 'title': 'Barbeque'}, {'alia...     4.0   \n",
       "2  [{'alias': 'bars', 'title': 'Bars'}, {'alias':...     4.0   \n",
       "3  [{'alias': 'kosher', 'title': 'Kosher'}, {'ali...     3.5   \n",
       "4  [{'alias': 'cafes', 'title': 'Cafes'}, {'alias...     4.0   \n",
       "5  [{'alias': 'vegan', 'title': 'Vegan'}, {'alias...     4.5   \n",
       "6           [{'alias': 'kosher', 'title': 'Kosher'}]     4.0   \n",
       "7  [{'alias': 'mideastern', 'title': 'Middle East...     4.5   \n",
       "8  [{'alias': 'delis', 'title': 'Delis'}, {'alias...     4.5   \n",
       "9  [{'alias': 'delis', 'title': 'Delis'}, {'alias...     4.0   \n",
       "\n",
       "                                         coordinates        transactions  \\\n",
       "0  {'latitude': 40.6788993574647, 'longitude': -7...  [pickup, delivery]   \n",
       "1      {'latitude': 40.66487, 'longitude': -73.9369}  [pickup, delivery]   \n",
       "2  {'latitude': 40.663465879123, 'longitude': -73...  [pickup, delivery]   \n",
       "3  {'latitude': 40.7077128, 'longitude': -73.9611...  [pickup, delivery]   \n",
       "4  {'latitude': 40.6621475219727, 'longitude': -7...  [pickup, delivery]   \n",
       "5      {'latitude': 40.6896, 'longitude': -73.96982}  [pickup, delivery]   \n",
       "6     {'latitude': 40.67577, 'longitude': -73.94146}                  []   \n",
       "7     {'latitude': 40.60807, 'longitude': -73.96114}  [pickup, delivery]   \n",
       "8   {'latitude': 40.679434, 'longitude': -73.949515}  [pickup, delivery]   \n",
       "9      {'latitude': 40.6244, 'longitude': -73.96474}                  []   \n",
       "\n",
       "                                            location         phone  \\\n",
       "0  {'address1': '7 Rochester Ave', 'address2': ''...  +17187713038   \n",
       "1  {'address1': '397 Troy Ave', 'address2': '', '...  +13474250524   \n",
       "2  {'address1': '252 Empire Blvd', 'address2': ''...  +13478460622   \n",
       "3  {'address1': '352 Roebling St', 'address2': ''...  +17183846612   \n",
       "4  {'address1': '529 E New York Ave', 'address2':...  +13472921382   \n",
       "5  {'address1': '235 Dekalb Ave', 'address2': Non...  +17186388868   \n",
       "6  {'address1': '123 Kingston Ave', 'address2': N...  +15168881730   \n",
       "7  {'address1': '1123 Quentin Rd', 'address2': No...  +17187669009   \n",
       "8  {'address1': '533 Nostrand Ave', 'address2': '...  +17187891155   \n",
       "9  {'address1': '1359 Coney Island Ave', 'address...  +17188591002   \n",
       "\n",
       "    display_phone     distance price  \n",
       "0  (718) 771-3038  3125.799321   NaN  \n",
       "1  (347) 425-0524  1409.865578   $$$  \n",
       "2  (347) 846-0622  1727.787787   NaN  \n",
       "3  (718) 384-6612  6426.086577    $$  \n",
       "4  (347) 292-1382  1188.967434    $$  \n",
       "5  (718) 638-8868  4879.438731    $$  \n",
       "6  (516) 888-1730  2609.078224   NaN  \n",
       "7  (718) 766-9009  5244.943538   NaN  \n",
       "8  (718) 789-1155  3133.116516    $$  \n",
       "9  (718) 859-1002  3772.949906    $$  "
      ]
     },
     "execution_count": 18,
     "metadata": {},
     "output_type": "execute_result"
    }
   ],
   "source": [
    "import pandas as pd\n",
    "\n",
    "df = pd.DataFrame.from_dict(response.json()['businesses'])\n",
    "print(len(df)) #Print how many rows\n",
    "print(df.columns) #Print column names\n",
    "df.head(50) #Previews the first five rows. \n",
    "#You could also write df.head(10) to preview 10 rows or df.tail() to see the bottom"
   ]
  },
  {
   "cell_type": "code",
   "execution_count": null,
   "metadata": {},
   "outputs": [],
   "source": [
    "# Got kosher restaurants in brooklyn!"
   ]
  },
  {
   "cell_type": "markdown",
   "metadata": {},
   "source": [
    "## Summary <a id=\"sum\"></a>\n",
    "\n",
    "Congratulations! We've covered a lot here! We took some of your previous knowledge with HTTP requests and OAuth in order to leverage an enterprise API! Then we made some requests to retrieve information that came back as a JSON format. We then transformed this data into a dataframe using the Pandas package. In the next lab, we'll break down how to read API documentation!"
   ]
  }
 ],
 "metadata": {
  "kernelspec": {
   "display_name": "Python 3",
   "language": "python",
   "name": "python3"
  },
  "language_info": {
   "codemirror_mode": {
    "name": "ipython",
    "version": 3
   },
   "file_extension": ".py",
   "mimetype": "text/x-python",
   "name": "python",
   "nbconvert_exporter": "python",
   "pygments_lexer": "ipython3",
   "version": "3.6.9"
  },
  "toc": {
   "base_numbering": 1,
   "nav_menu": {},
   "number_sections": true,
   "sideBar": true,
   "skip_h1_title": false,
   "title_cell": "Table of Contents",
   "title_sidebar": "Contents",
   "toc_cell": false,
   "toc_position": {},
   "toc_section_display": true,
   "toc_window_display": false
  }
 },
 "nbformat": 4,
 "nbformat_minor": 2
}
